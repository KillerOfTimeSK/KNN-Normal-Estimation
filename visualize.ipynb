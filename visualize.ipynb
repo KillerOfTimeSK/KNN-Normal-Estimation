{
 "cells": [
  {
   "cell_type": "code",
   "execution_count": 1,
   "metadata": {},
   "outputs": [
    {
     "name": "stdout",
     "output_type": "stream",
     "text": [
      "Radeon RX 7900 XT\n",
      "AMD Radeon Graphics\n",
      "Is cuda available?  True\n",
      "Is MPS?  False\n",
      "Is using HIP version?  6.2.41134-65d174c3e\n",
      "Is using CUDA version?  None\n"
     ]
    }
   ],
   "source": [
    "from PIL import Image\n",
    "import torch\n",
    "cudas = torch.cuda.device_count()\n",
    "for i in range(cudas):\n",
    "    print(torch.cuda.get_device_properties(i).name)\n",
    "if cudas < 1: \n",
    "    print(\"No GPU found\")\n",
    "    exit(1)\n",
    "\n",
    "try: print(\"Is cuda available? \", torch.cuda.is_available())\n",
    "except Exception as e: print(\"Error checking cuda availability: \", e)\n",
    "\n",
    "try: print(\"Is MPS? \", torch.backends.mps.is_available())\n",
    "except Exception as e: print(\"Error checking mips availability: \", e)\n",
    "\n",
    "try: print(\"Is using HIP version? \", torch.version.hip)\n",
    "except Exception as e: print(\"Error checking hip availability: \", e)\n",
    "\n",
    "try: print(\"Is using CUDA version? \", torch.version.cuda)\n",
    "except Exception as e: print(\"Error checking cuda availability: \", e)\n",
    "\n",
    "torch.backends.cudnn.enabled = True\n",
    "torch.backends.cudnn.benchmark = False\n",
    "torch.backends.cudnn.workspace_limit = 256 * 1024 * 1024"
   ]
  },
  {
   "cell_type": "code",
   "execution_count": null,
   "metadata": {},
   "outputs": [],
   "source": [
    "from TranslatedLoader import GetDataset\n",
    "\n",
    "csv_dir = '~/KNN/data/data_list/data_list/'\n",
    "translation_table = {\n",
    "    './val/': '~/KNN/data/valRGB/',\n",
    "    './train/indoors': '~/KNN/data/trainRGB/train/indoors',\n",
    "    './train_normal/indoors': '~/KNN/data/trainNorm/indoors',\n",
    "    './val_normal/': '~/KNN/data/valNorm/',\n",
    "    './train/outdoor': '~/KNN/data/trainRGBHDD/train/outdoor',\n",
    "    './train_normal/outdoor': '~/KNN/data/trainNormHDD/outdoor',\n",
    "}\n"
   ]
  },
  {
   "cell_type": "code",
   "execution_count": null,
   "metadata": {},
   "outputs": [
    {
     "name": "stderr",
     "output_type": "stream",
     "text": [
      "MIOpen(HIP): Warning [IsEnoughWorkspace] [GetSolutionsFallback WTI] Solver <GemmFwdRest>, workspace required: 13107200, provided ptr: 0 size: 0\n",
      "MIOpen(HIP): Warning [IsEnoughWorkspace] [EvaluateInvokers] Solver <GemmFwdRest>, workspace required: 13107200, provided ptr: 0 size: 0\n",
      "MIOpen(HIP): Warning [IsEnoughWorkspace] [GetSolutionsFallback WTI] Solver <GemmFwdRest>, workspace required: 26214400, provided ptr: 0 size: 0\n",
      "MIOpen(HIP): Warning [IsEnoughWorkspace] [EvaluateInvokers] Solver <GemmFwdRest>, workspace required: 26214400, provided ptr: 0 size: 0\n",
      "MIOpen(HIP): Warning [IsEnoughWorkspace] [GetSolutionsFallback WTI] Solver <GemmFwdRest>, workspace required: 52428800, provided ptr: 0 size: 0\n",
      "MIOpen(HIP): Warning [IsEnoughWorkspace] [EvaluateInvokers] Solver <GemmFwdRest>, workspace required: 52428800, provided ptr: 0 size: 0\n",
      "MIOpen(HIP): Warning [IsEnoughWorkspace] [GetSolutionsFallback WTI] Solver <GemmFwdRest>, workspace required: 104857600, provided ptr: 0 size: 0\n",
      "MIOpen(HIP): Warning [IsEnoughWorkspace] [EvaluateInvokers] Solver <GemmFwdRest>, workspace required: 104857600, provided ptr: 0 size: 0\n"
     ]
    },
    {
     "name": "stdout",
     "output_type": "stream",
     "text": [
      "Validation Step [10/325], Loss: 52.1042\n",
      "Validation Step [60/325], Loss: 65.4298\n",
      "Validation Step [110/325], Loss: 51.5795\n",
      "Validation Step [160/325], Loss: 63.9015\n",
      "Validation Step [210/325], Loss: 47.1195\n",
      "Validation Step [260/325], Loss: 47.3114\n",
      "Validation Step [310/325], Loss: 49.7698\n",
      "Validation finished Average Loss: 42.6904\n",
      "Indoor validation done 325\n",
      "--------------------\n",
      "Validation Step [10/446], Loss: 65.7523\n",
      "Validation Step [60/446], Loss: 66.7277\n",
      "Validation Step [110/446], Loss: 64.2181\n",
      "Validation Step [160/446], Loss: 73.7788\n",
      "Validation Step [210/446], Loss: 78.4102\n",
      "Validation Step [260/446], Loss: 81.0266\n",
      "Validation Step [310/446], Loss: 68.7754\n",
      "Validation Step [360/446], Loss: 70.8841\n",
      "Validation Step [410/446], Loss: 84.6410\n",
      "Validation finished Average Loss: 70.2750\n",
      "Outdoor validation done 446\n",
      "--------------------\n",
      "Validation Step [10/771], Loss: 52.1042\n",
      "Validation Step [60/771], Loss: 65.4298\n",
      "Validation Step [110/771], Loss: 51.5795\n",
      "Validation Step [160/771], Loss: 63.9015\n",
      "Validation Step [210/771], Loss: 47.1195\n",
      "Validation Step [260/771], Loss: 47.3114\n",
      "Validation Step [310/771], Loss: 49.7698\n",
      "Validation Step [360/771], Loss: 77.4557\n",
      "Validation Step [410/771], Loss: 84.5979\n",
      "Validation Step [460/771], Loss: 60.4416\n",
      "Validation Step [510/771], Loss: 70.0113\n",
      "Validation Step [560/771], Loss: 80.7799\n",
      "Validation Step [610/771], Loss: 74.7153\n",
      "Validation Step [660/771], Loss: 60.0288\n",
      "Validation Step [710/771], Loss: 62.2421\n",
      "Validation Step [760/771], Loss: 68.1819\n",
      "Validation finished Average Loss: 58.6472\n",
      "Both validation done 771\n"
     ]
    }
   ],
   "source": [
    "from model_unet import UNet\n",
    "from train_model import TrainModel, LoadModel, visualize_predictions, ValidateModel\n",
    "from vgg_model import VGGNormal\n",
    "from dataset import load_data\n",
    "from WriteWrapper import WriteWrapper\n",
    "from torch.utils.data import DataLoader\n",
    "import os\n",
    "\n",
    "FORCE_TRAIN = True\n",
    "FORCE_FULL_TRAIN = False\n",
    "full_model_name = 'model_MSELoss_L_True_G_True_f_0.2_final.pth'\n",
    "file_out = WriteWrapper('vis_log.txt')\n",
    "\n",
    "validatorIndoor = GetDataset(csv_dir + 'val_indoors.csv', translation_table, 128)\n",
    "validatorOutdoor = GetDataset(csv_dir + 'val_outdoor.csv', translation_table, 128)\n",
    "validatorBoth = GetDataset(csv_dir + 'val_indoors.csv', translation_table, 128, more=csv_dir + 'val_outdoor.csv')\n",
    "model = LoadModel(UNet(file_out, useLarge=True, useGlobalFeatures=True), full_model_name, True, '')\n",
    "\n",
    "image_ids = []\n",
    "for i in range(len(validatorIndoor)): image_ids.append(i)\n",
    "visualize_predictions(image_ids, validatorIndoor, model, len(validatorIndoor), store_dir='vis_indoor')\n",
    "validator_loader = DataLoader(validatorIndoor, batch_size=1, shuffle=False, num_workers=0, pin_memory=True)\n",
    "ValidateModel(model, validator_loader)\n",
    "print(\"Indoor validation done\", len(validatorIndoor))\n",
    "print('-' * 20)\n",
    "\n",
    "image_ids = []\n",
    "for i in range(len(validatorOutdoor)): image_ids.append(i)\n",
    "visualize_predictions(image_ids, validatorOutdoor, model, len(validatorOutdoor), store_dir='vis_outdoor')\n",
    "validator_loader = DataLoader(validatorOutdoor, batch_size=1, shuffle=False, num_workers=0, pin_memory=True)\n",
    "ValidateModel(model, validator_loader)\n",
    "print(\"Outdoor validation done\", len(validatorOutdoor))\n",
    "print('-' * 20)\n",
    "\n",
    "image_ids = []\n",
    "for i in range(len(validatorBoth)): image_ids.append(i)\n",
    "validator_loader = DataLoader(validatorBoth, batch_size=1, shuffle=False, num_workers=0, pin_memory=True)\n",
    "ValidateModel(model, validator_loader)\n",
    "print(\"Both validation done\", len(validatorBoth))"
   ]
  }
 ],
 "metadata": {
  "kernelspec": {
   "display_name": "amdEnv",
   "language": "python",
   "name": "python3"
  },
  "language_info": {
   "codemirror_mode": {
    "name": "ipython",
    "version": 3
   },
   "file_extension": ".py",
   "mimetype": "text/x-python",
   "name": "python",
   "nbconvert_exporter": "python",
   "pygments_lexer": "ipython3",
   "version": "3.12.3"
  }
 },
 "nbformat": 4,
 "nbformat_minor": 2
}
