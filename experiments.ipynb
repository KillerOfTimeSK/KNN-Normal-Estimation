{
 "cells": [
  {
   "cell_type": "code",
   "execution_count": null,
   "metadata": {},
   "outputs": [],
   "source": [
    "from PIL import Image\n",
    "import torch\n",
    "cudas = torch.cuda.device_count()\n",
    "for i in range(cudas):\n",
    "    print(torch.cuda.get_device_properties(i).name)\n",
    "if cudas < 1: \n",
    "    print(\"No GPU found\")\n",
    "    exit(1)\n",
    "\n",
    "try: print(\"Is cuda available? \", torch.cuda.is_available())\n",
    "except Exception as e: print(\"Error checking cuda availability: \", e)\n",
    "\n",
    "try: print(\"Is MPS? \", torch.backends.mps.is_available())\n",
    "except Exception as e: print(\"Error checking mips availability: \", e)\n",
    "\n",
    "try: print(\"Is using HIP version? \", torch.version.hip)\n",
    "except Exception as e: print(\"Error checking hip availability: \", e)\n",
    "\n",
    "try: print(\"Is using CUDA version? \", torch.version.cuda)\n",
    "except Exception as e: print(\"Error checking cuda availability: \", e)\n",
    "\n",
    "torch.backends.cudnn.enabled = True\n",
    "torch.backends.cudnn.benchmark = False\n",
    "torch.backends.cudnn.workspace_limit = 256 * 1024 * 1024"
   ]
  },
  {
   "cell_type": "code",
   "execution_count": null,
   "metadata": {},
   "outputs": [],
   "source": [
    "from TranslatedLoader import GetDataset\n",
    "\n",
    "csv_dir = '~/KNN/data/data_list/data_list/'\n",
    "translation_table = {\n",
    "    './val/': '~/KNN/data/valRGB/',\n",
    "    './train/': '~/KNN/data/trainRGB/train/',\n",
    "    './train_normal/': '~/KNN/data/trainNorm/',\n",
    "    './val_normal/': '~/KNN/data/valNorm/',\n",
    "}\n"
   ]
  },
  {
   "cell_type": "code",
   "execution_count": null,
   "metadata": {},
   "outputs": [],
   "source": [
    "from model_unet import UNet\n",
    "from train_model import TrainModel, LoadModel, visualize_predictions, ValidateModel\n",
    "from vgg_model import VGGNormal\n",
    "from dataset import load_data\n",
    "from WriteWrapper import WriteWrapper\n",
    "from torch.utils.data import DataLoader\n",
    "import os\n",
    "\n",
    "FORCE_TRAIN = True\n",
    "FORCE_FULL_TRAIN = False\n",
    "full_model_name = 'model'\n",
    "mini_model_name = 'model_mini'\n",
    "model_version = '_epoch_1.pth'\n",
    "\n",
    "file_out = WriteWrapper('train_log.txt')\n",
    "#file_out = WriteWrapper(None) # This will print all to stdout\n",
    "train_dataset = GetDataset(csv_dir + 'train_indoors.csv', translation_table, 128)\n",
    "validator = GetDataset(csv_dir + 'val_indoors.csv', translation_table, 128)\n",
    "\n",
    "def TryModel(model_name, criterion, useLarge, useGlobalFeatures, finisherLR):\n",
    "    try:\n",
    "        model = UNet(file_out, useLarge=useLarge, useGlobalFeatures=useGlobalFeatures)\n",
    "        model.InitWeights()\n",
    "        model.SetActive(True)\n",
    "        train_loader = DataLoader(train_dataset, batch_size=32, shuffle=True, num_workers=6, pin_memory=True)\n",
    "        model = TrainModel(model, model_name, train_loader, file_out, epochs=16, train_dataset=validator, LR = 1e-3, lrShrink=0.9, criterion=criterion, finisherLR=finisherLR)\n",
    "\n",
    "        image_ids = []\n",
    "        for i in range(6): image_ids.append(50+10*i)\n",
    "        visualize_predictions(image_ids, train_dataset, model, 3)\n",
    "\n",
    "        image_ids = []\n",
    "        for i in range(6): image_ids.append(10+20*i)\n",
    "        visualize_predictions(image_ids, validator, model, 4)\n",
    "\n",
    "        validator_loader = DataLoader(validator, batch_size=1, shuffle=False, num_workers=0, pin_memory=True)\n",
    "        ValidateModel(model, validator_loader)\n",
    "    except Exception as e:\n",
    "        print(\"Error in model training: \", e)\n",
    "        file_out(\"Error in model training: \" + str(e))\n",
    "        file_out('=' * 20)\n",
    "        file_out('\\n' * 4)\n",
    "        return"
   ]
  },
  {
   "cell_type": "code",
   "execution_count": null,
   "metadata": {},
   "outputs": [],
   "source": [
    "import torch.nn as nn\n",
    "from model_unet import AngularLoss, CombinedLoss\n",
    "\n",
    "for criterion in [nn.MSELoss(), AngularLoss(), CombinedLoss()]:\n",
    "    for finisherLR in [0.2, 0.9, 1]:\n",
    "        for useLarge in [True, False]:\n",
    "            for useGlobalFeatures in [True, False]:\n",
    "                print(f\"Training with criterion: {criterion}, useLarge: {useLarge}, useGlobalFeatures: {useGlobalFeatures}, finisherLR: {finisherLR}\")\n",
    "                modelName = f\"model_{criterion.__class__.__name__}_L_{useLarge}_G_{useGlobalFeatures}_f_{finisherLR}\"\n",
    "                TryModel(modelName, criterion, useLarge, useGlobalFeatures, finisherLR)"
   ]
  }
 ],
 "metadata": {
  "kernelspec": {
   "display_name": "amdEnv",
   "language": "python",
   "name": "python3"
  },
  "language_info": {
   "codemirror_mode": {
    "name": "ipython",
    "version": 3
   },
   "file_extension": ".py",
   "mimetype": "text/x-python",
   "name": "python",
   "nbconvert_exporter": "python",
   "pygments_lexer": "ipython3",
   "version": "3.12.3"
  }
 },
 "nbformat": 4,
 "nbformat_minor": 2
}
